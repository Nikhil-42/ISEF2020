{
 "cells": [
  {
   "cell_type": "markdown",
   "metadata": {},
   "source": [
    "# Evolving a Neural Network"
   ]
  },
  {
   "cell_type": "code",
   "execution_count": null,
   "metadata": {},
   "outputs": [],
   "source": [
    "import numpy as np\n",
    "import homebrew.network as net\n",
    "import evolutionary_module as evm"
   ]
  },
  {
   "cell_type": "code",
   "execution_count": 1,
   "metadata": {},
   "outputs": [
    {
     "name": "stdout",
     "output_type": "stream",
     "text": [
      "hello world\n"
     ]
    }
   ],
   "source": [
    "print(\"hello world\")"
   ]
  },
  {
   "cell_type": "code",
   "execution_count": 1,
   "metadata": {},
   "outputs": [
    {
     "name": "stdout",
     "output_type": "stream",
     "text": [
      "Initialized a JIT_Network: [Input:  2 , Output:  1 , Node Count : 95 ]\n",
      "Initialized a JIT_Network: [Input:  2 , Output:  1 , Node Count : 95 ]\n",
      "Initialized a JIT_Network: [Input:  2 , Output:  1 , Node Count : 95 ]\n",
      "Initialized a JIT_Network: [Input:  2 , Output:  1 , Node Count : 95 ]\n",
      "Initialized a JIT_Network: [Input:  2 , Output:  1 , Node Count : 95 ]\n",
      "Initialized a JIT_Network: [Input:  2 , Output:  1 , Node Count : 95 ]\n",
      "Initialized a JIT_Network: [Input:  2 , Output:  1 , Node Count : 95 ]\n",
      "Initialized a JIT_Network: [Input:  2 , Output:  1 , Node Count : 95 ]\n",
      "Initialized a JIT_Network: [Input:  2 , Output:  1 , Node Count : 95 ]\n",
      "Initialized a JIT_Network: [Input:  2 , Output:  1 , Node Count : 95 ]\n",
      "Initialized a JIT_Network: [Input:  2 , Output:  1 , Node Count : 76 ]\n",
      "Initialized a JIT_Network: [Input:  2 , Output:  1 , Node Count : 76 ]\n",
      "Initialized a JIT_Network: [Input:  2 , Output:  1 , Node Count : 76 ]\n",
      "Initialized a JIT_Network: [Input:  2 , Output:  1 , Node Count : 76 ]\n",
      "Initialized a JIT_Network: [Input:  2 , Output:  1 , Node Count : 76 ]\n",
      "Initialized a JIT_Network: [Input:  2 , Output:  1 , Node Count : 76 ]\n",
      "Initialized a JIT_Network: [Input:  2 , Output:  1 , Node Count : 76 ]\n",
      "Initialized a JIT_Network: [Input:  2 , Output:  1 , Node Count : 76 ]\n",
      "Initialized a JIT_Network: [Input:  2 , Output:  1 , Node Count : 76 ]\n",
      "Initialized a JIT_Network: [Input:  2 , Output:  1 , Node Count : 76 ]\n",
      "Initialized a JIT_Network: [Input:  2 , Output:  1 , Node Count : 46 ]\n",
      "Initialized a JIT_Network: [Input:  2 , Output:  1 , Node Count : 46 ]\n",
      "Initialized a JIT_Network: [Input:  2 , Output:  1 , Node Count : 46 ]\n",
      "Initialized a JIT_Network: [Input:  2 , Output:  1 , Node Count : 46 ]\n",
      "Initialized a JIT_Network: [Input:  2 , Output:  1 , Node Count : 46 ]\n",
      "Initialized a JIT_Network: [Input:  2 , Output:  1 , Node Count : 46 ]\n",
      "Initialized a JIT_Network: [Input:  2 , Output:  1 , Node Count : 46 ]\n",
      "Initialized a JIT_Network: [Input:  2 , Output:  1 , Node Count : 46 ]\n",
      "Initialized a JIT_Network: [Input:  2 , Output:  1 , Node Count : 46 ]\n",
      "Initialized a JIT_Network: [Input:  2 , Output:  1 , Node Count : 46 ]\n",
      "Initialized a JIT_Network: [Input:  2 , Output:  1 , Node Count : 39 ]\n",
      "Initialized a JIT_Network: [Input:  2 , Output:  1 , Node Count : 39 ]\n",
      "Initialized a JIT_Network: [Input:  2 , Output:  1 , Node Count : 39 ]\n",
      "Initialized a JIT_Network: [Input:  2 , Output:  1 , Node Count : 39 ]\n",
      "Initialized a JIT_Network: [Input:  2 , Output:  1 , Node Count : 39 ]\n",
      "Initialized a JIT_Network: [Input:  2 , Output:  1 , Node Count : 39 ]\n",
      "Initialized a JIT_Network: [Input:  2 , Output:  1 , Node Count : 39 ]\n",
      "Initialized a JIT_Network: [Input:  2 , Output:  1 , Node Count : 39 ]\n",
      "Initialized a JIT_Network: [Input:  2 , Output:  1 , Node Count : 39 ]\n",
      "Initialized a JIT_Network: [Input:  2 , Output:  1 , Node Count : 39 ]\n",
      "Initialized a JIT_Network: [Input:  2 , Output:  1 , Node Count : 60 ]\n",
      "Initialized a JIT_Network: [Input:  2 , Output:  1 , Node Count : 60 ]\n",
      "Initialized a JIT_Network: [Input:  2 , Output:  1 , Node Count : 60 ]\n",
      "Initialized a JIT_Network: [Input:  2 , Output:  1 , Node Count : 60 ]\n",
      "Initialized a JIT_Network: [Input:  2 , Output:  1 , Node Count : 60 ]\n",
      "Initialized a JIT_Network: [Input:  2 , Output:  1 , Node Count : 60 ]\n",
      "Initialized a JIT_Network: [Input:  2 , Output:  1 , Node Count : 60 ]\n",
      "Initialized a JIT_Network: [Input:  2 , Output:  1 , Node Count : 60 ]\n",
      "Initialized a JIT_Network: [Input:  2 , Output:  1 , Node Count : 60 ]\n",
      "Initialized a JIT_Network: [Input:  2 , Output:  1 , Node Count : 60 ]\n",
      "Initialized a JIT_Network: [Input:  2 , Output:  1 , Node Count : 131 ]\n",
      "Initialized a JIT_Network: [Input:  2 , Output:  1 , Node Count : 131 ]\n",
      "Initialized a JIT_Network: [Input:  2 , Output:  1 , Node Count : 131 ]\n",
      "Initialized a JIT_Network: [Input:  2 , Output:  1 , Node Count : 131 ]\n",
      "Initialized a JIT_Network: [Input:  2 , Output:  1 , Node Count : 131 ]\n",
      "Initialized a JIT_Network: [Input:  2 , Output:  1 , Node Count : 131 ]\n",
      "Initialized a JIT_Network: [Input:  2 , Output:  1 , Node Count : 131 ]\n",
      "Initialized a JIT_Network: [Input:  2 , Output:  1 , Node Count : 131 ]\n",
      "Initialized a JIT_Network: [Input:  2 , Output:  1 , Node Count : 131 ]\n",
      "Initialized a JIT_Network: [Input:  2 , Output:  1 , Node Count : 131 ]\n",
      "Initialized a JIT_Network: [Input:  2 , Output:  1 , Node Count : 45 ]\n",
      "Initialized a JIT_Network: [Input:  2 , Output:  1 , Node Count : 45 ]\n",
      "Initialized a JIT_Network: [Input:  2 , Output:  1 , Node Count : 45 ]\n",
      "Initialized a JIT_Network: [Input:  2 , Output:  1 , Node Count : 45 ]\n",
      "Initialized a JIT_Network: [Input:  2 , Output:  1 , Node Count : 45 ]\n",
      "Initialized a JIT_Network: [Input:  2 , Output:  1 , Node Count : 45 ]\n",
      "Initialized a JIT_Network: [Input:  2 , Output:  1 , Node Count : 45 ]\n",
      "Initialized a JIT_Network: [Input:  2 , Output:  1 , Node Count : 45 ]\n",
      "Initialized a JIT_Network: [Input:  2 , Output:  1 , Node Count : 45 ]\n",
      "Initialized a JIT_Network: [Input:  2 , Output:  1 , Node Count : 45 ]\n",
      "Initialized a JIT_Network: [Input:  2 , Output:  1 , Node Count : 57 ]\n",
      "Initialized a JIT_Network: [Input:  2 , Output:  1 , Node Count : 57 ]\n",
      "Initialized a JIT_Network: [Input:  2 , Output:  1 , Node Count : 57 ]\n",
      "Initialized a JIT_Network: [Input:  2 , Output:  1 , Node Count : 57 ]\n",
      "Initialized a JIT_Network: [Input:  2 , Output:  1 , Node Count : 57 ]\n",
      "Initialized a JIT_Network: [Input:  2 , Output:  1 , Node Count : 57 ]\n",
      "Initialized a JIT_Network: [Input:  2 , Output:  1 , Node Count : 57 ]\n",
      "Initialized a JIT_Network: [Input:  2 , Output:  1 , Node Count : 57 ]\n",
      "Initialized a JIT_Network: [Input:  2 , Output:  1 , Node Count : 57 ]\n",
      "Initialized a JIT_Network: [Input:  2 , Output:  1 , Node Count : 57 ]\n",
      "Initialized a JIT_Network: [Input:  2 , Output:  1 , Node Count : 75 ]\n",
      "Initialized a JIT_Network: [Input:  2 , Output:  1 , Node Count : 75 ]\n",
      "Initialized a JIT_Network: [Input:  2 , Output:  1 , Node Count : 75 ]\n",
      "Initialized a JIT_Network: [Input:  2 , Output:  1 , Node Count : 75 ]\n",
      "Initialized a JIT_Network: [Input:  2 , Output:  1 , Node Count : 75 ]\n",
      "Initialized a JIT_Network: [Input:  2 , Output:  1 , Node Count : 75 ]\n",
      "Initialized a JIT_Network: [Input:  2 , Output:  1 , Node Count : 75 ]\n",
      "Initialized a JIT_Network: [Input:  2 , Output:  1 , Node Count : 75 ]\n",
      "Initialized a JIT_Network: [Input:  2 , Output:  1 , Node Count : 75 ]\n",
      "Initialized a JIT_Network: [Input:  2 , Output:  1 , Node Count : 75 ]\n",
      "Initialized a JIT_Network: [Input:  2 , Output:  1 , Node Count : 19 ]\n",
      "Initialized a JIT_Network: [Input:  2 , Output:  1 , Node Count : 19 ]\n",
      "Initialized a JIT_Network: [Input:  2 , Output:  1 , Node Count : 19 ]\n",
      "Initialized a JIT_Network: [Input:  2 , Output:  1 , Node Count : 19 ]\n",
      "Initialized a JIT_Network: [Input:  2 , Output:  1 , Node Count : 19 ]\n",
      "Initialized a JIT_Network: [Input:  2 , Output:  1 , Node Count : 19 ]\n",
      "Initialized a JIT_Network: [Input:  2 , Output:  1 , Node Count : 19 ]\n",
      "Initialized a JIT_Network: [Input:  2 , Output:  1 , Node Count : 19 ]\n",
      "Initialized a JIT_Network: [Input:  2 , Output:  1 , Node Count : 19 ]\n",
      "Initialized a JIT_Network: [Input:  2 , Output:  1 , Node Count : 19 ]\n"
     ]
    },
    {
     "data": {
      "text/plain": [
       "ListType[ListType[instance.jitclass.JIT_Network#1c1be5c2308<input_shape:int32,output_shape:int32,node_count:int32,nodes:array(float32, 2d, A),to:array(int32, 2d, A),frm:array(int32, 2d, A),deps:array(int32, 2d, A),weights:array(float32, 2d, A),connections:reflected set(UniTuple(int32 x 2))>]]([[<numba.jitclass.boxing.JIT_Network object at 0x000001C1BF4DD170>, <numba.jitclass.boxing.JIT_Network object at 0x000001C1BF4DD110>, <numba.jitclass.boxing.JIT_Network object at 0x000001C1BF4DD170>, <numba.jitclass.boxing.JIT_Network object at 0x000001C1BF4DD110>, <numba.jitclass.boxing.JIT_Network object at 0x000001C1BF4DD170>, <numba.jitclass.boxing.JIT_Network object at 0x000001C1BF4DD150>, <numba.jitclass.boxing.JIT_Network object at 0x000001C1BF4DD170>, <numba.jitclass.boxing.JIT_Network object at 0x000001C1BF4DD150>, <numba.jitclass.boxing.JIT_Network object at 0x000001C1BF4DD170>, <numba.jitclass.boxing.JIT_Network object at 0x000001C1BF4DD150>], [<numba.jitclass.boxing.JIT_Network object at 0x000001C1BF094E70>, <numba.jitclass.boxing.JIT_Network object at 0x000001C1BF094450>, <numba.jitclass.boxing.JIT_Network object at 0x000001C1BF094E70>, <numba.jitclass.boxing.JIT_Network object at 0x000001C1BF094450>, <numba.jitclass.boxing.JIT_Network object at 0x000001C1BF094E70>, <numba.jitclass.boxing.JIT_Network object at 0x000001C1BF094F10>, <numba.jitclass.boxing.JIT_Network object at 0x000001C1BF094E70>, <numba.jitclass.boxing.JIT_Network object at 0x000001C1BF094F10>, <numba.jitclass.boxing.JIT_Network object at 0x000001C1BF094E70>, <numba.jitclass.boxing.JIT_Network object at 0x000001C1BF094F10>], [<numba.jitclass.boxing.JIT_Network object at 0x000001C1BF4DD0B0>, <numba.jitclass.boxing.JIT_Network object at 0x000001C1BF4DD170>, <numba.jitclass.boxing.JIT_Network object at 0x000001C1BF4DD0B0>, <numba.jitclass.boxing.JIT_Network object at 0x000001C1BF4DD170>, <numba.jitclass.boxing.JIT_Network object at 0x000001C1BF4DD0B0>, <numba.jitclass.boxing.JIT_Network object at 0x000001C1BF4DD0D0>, <numba.jitclass.boxing.JIT_Network object at 0x000001C1BF4DD0B0>, <numba.jitclass.boxing.JIT_Network object at 0x000001C1BF4DD0D0>, <numba.jitclass.boxing.JIT_Network object at 0x000001C1BF4DD0B0>, <numba.jitclass.boxing.JIT_Network object at 0x000001C1BF4DD0D0>], [<numba.jitclass.boxing.JIT_Network object at 0x000001C1BF094450>, <numba.jitclass.boxing.JIT_Network object at 0x000001C1BF094E70>, <numba.jitclass.boxing.JIT_Network object at 0x000001C1BF094450>, <numba.jitclass.boxing.JIT_Network object at 0x000001C1BF094E70>, <numba.jitclass.boxing.JIT_Network object at 0x000001C1BF094450>, <numba.jitclass.boxing.JIT_Network object at 0x000001C1BF094B90>, <numba.jitclass.boxing.JIT_Network object at 0x000001C1BF094450>, <numba.jitclass.boxing.JIT_Network object at 0x000001C1BF094B90>, <numba.jitclass.boxing.JIT_Network object at 0x000001C1BF094450>, <numba.jitclass.boxing.JIT_Network object at 0x000001C1BF094B90>], [<numba.jitclass.boxing.JIT_Network object at 0x000001C1BF4DD170>, <numba.jitclass.boxing.JIT_Network object at 0x000001C1BF4DD0D0>, <numba.jitclass.boxing.JIT_Network object at 0x000001C1BF4DD170>, <numba.jitclass.boxing.JIT_Network object at 0x000001C1BF4DD0D0>, <numba.jitclass.boxing.JIT_Network object at 0x000001C1BF4DD170>, <numba.jitclass.boxing.JIT_Network object at 0x000001C1BF4DD0B0>, <numba.jitclass.boxing.JIT_Network object at 0x000001C1BF4DD170>, <numba.jitclass.boxing.JIT_Network object at 0x000001C1BF4DD0B0>, <numba.jitclass.boxing.JIT_Network object at 0x000001C1BF4DD170>, <numba.jitclass.boxing.JIT_Network object at 0x000001C1BF4DD0B0>], [<numba.jitclass.boxing.JIT_Network object at 0x000001C1BF094E70>, <numba.jitclass.boxing.JIT_Network object at 0x000001C1BF094450>, <numba.jitclass.boxing.JIT_Network object at 0x000001C1BF094E70>, <numba.jitclass.boxing.JIT_Network object at 0x000001C1BF094450>, <numba.jitclass.boxing.JIT_Network object at 0x000001C1BF094E70>, <numba.jitclass.boxing.JIT_Network object at 0x000001C1BF094F10>, <numba.jitclass.boxing.JIT_Network object at 0x000001C1BF094E70>, <numba.jitclass.boxing.JIT_Network object at 0x000001C1BF094F10>, <numba.jitclass.boxing.JIT_Network object at 0x000001C1BF094E70>, <numba.jitclass.boxing.JIT_Network object at 0x000001C1BF094F10>], [<numba.jitclass.boxing.JIT_Network object at 0x000001C1BF4DD170>, <numba.jitclass.boxing.JIT_Network object at 0x000001C1BF4DD110>, <numba.jitclass.boxing.JIT_Network object at 0x000001C1BF4DD170>, <numba.jitclass.boxing.JIT_Network object at 0x000001C1BF4DD110>, <numba.jitclass.boxing.JIT_Network object at 0x000001C1BF4DD170>, <numba.jitclass.boxing.JIT_Network object at 0x000001C1BF4DD0D0>, <numba.jitclass.boxing.JIT_Network object at 0x000001C1BF4DD170>, <numba.jitclass.boxing.JIT_Network object at 0x000001C1BF4DD0D0>, <numba.jitclass.boxing.JIT_Network object at 0x000001C1BF4DD170>, <numba.jitclass.boxing.JIT_Network object at 0x000001C1BF4DD0D0>], [<numba.jitclass.boxing.JIT_Network object at 0x000001C1BF094450>, <numba.jitclass.boxing.JIT_Network object at 0x000001C1BF094E70>, <numba.jitclass.boxing.JIT_Network object at 0x000001C1BF094450>, <numba.jitclass.boxing.JIT_Network object at 0x000001C1BF094E70>, <numba.jitclass.boxing.JIT_Network object at 0x000001C1BF094450>, <numba.jitclass.boxing.JIT_Network object at 0x000001C1BF094B90>, <numba.jitclass.boxing.JIT_Network object at 0x000001C1BF094450>, <numba.jitclass.boxing.JIT_Network object at 0x000001C1BF094B90>, <numba.jitclass.boxing.JIT_Network object at 0x000001C1BF094450>, <numba.jitclass.boxing.JIT_Network object at 0x000001C1BF094B90>], [<numba.jitclass.boxing.JIT_Network object at 0x000001C1BF4DD110>, <numba.jitclass.boxing.JIT_Network object at 0x000001C1BF4DD170>, <numba.jitclass.boxing.JIT_Network object at 0x000001C1BF4DD110>, <numba.jitclass.boxing.JIT_Network object at 0x000001C1BF4DD170>, <numba.jitclass.boxing.JIT_Network object at 0x000001C1BF4DD110>, <numba.jitclass.boxing.JIT_Network object at 0x000001C1BF4DD150>, <numba.jitclass.boxing.JIT_Network object at 0x000001C1BF4DD110>, <numba.jitclass.boxing.JIT_Network object at 0x000001C1BF4DD150>, <numba.jitclass.boxing.JIT_Network object at 0x000001C1BF4DD110>, <numba.jitclass.boxing.JIT_Network object at 0x000001C1BF4DD150>], [<numba.jitclass.boxing.JIT_Network object at 0x000001C1BF094E70>, <numba.jitclass.boxing.JIT_Network object at 0x000001C1BF094450>, <numba.jitclass.boxing.JIT_Network object at 0x000001C1BF094E70>, <numba.jitclass.boxing.JIT_Network object at 0x000001C1BF094450>, <numba.jitclass.boxing.JIT_Network object at 0x000001C1BF094E70>, <numba.jitclass.boxing.JIT_Network object at 0x000001C1BF094F10>, <numba.jitclass.boxing.JIT_Network object at 0x000001C1BF094E70>, <numba.jitclass.boxing.JIT_Network object at 0x000001C1BF094F10>, <numba.jitclass.boxing.JIT_Network object at 0x000001C1BF094E70>, <numba.jitclass.boxing.JIT_Network object at 0x000001C1BF094F10>]])"
      ]
     },
     "execution_count": 1,
     "metadata": {},
     "output_type": "execute_result"
    }
   ],
   "source": [
    "import numpy as np\n",
    "import homebrew.network as net\n",
    "import evolutionary_module as evm\n",
    "\n",
    "evm.spawn_populations(10, 10, 2, 1, 150)"
   ]
  },
  {
   "cell_type": "code",
   "execution_count": null,
   "metadata": {},
   "outputs": [],
   "source": []
  }
 ],
 "metadata": {
  "kernelspec": {
   "display_name": "Python 3",
   "language": "python",
   "name": "python3"
  },
  "language_info": {
   "codemirror_mode": {
    "name": "ipython",
    "version": 3
   },
   "file_extension": ".py",
   "mimetype": "text/x-python",
   "name": "python",
   "nbconvert_exporter": "python",
   "pygments_lexer": "ipython3",
   "version": "3.7.6"
  }
 },
 "nbformat": 4,
 "nbformat_minor": 4
}
